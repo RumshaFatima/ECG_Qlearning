{
 "cells": [
  {
   "cell_type": "code",
   "execution_count": null,
   "id": "a249d843",
   "metadata": {},
   "outputs": [],
   "source": [
    "import numpy as np\n",
    "import matplotlib.pyplot as plt\n",
    "\n",
    "# Define ECG voltage values\n",
    "voltages = LeadII[300:400]\n",
    "\n",
    "# Define grid parameters\n",
    "grid_width = len(voltages)\n",
    "grid_height = 21 # voltage levels\n",
    "\n",
    "# Reshape voltage values into grid dimensions\n",
    "grid = np.zeros((grid_width, grid_height))\n",
    "for i, v in enumerate(voltages):\n",
    "    idx = int((v + 0.6) * 10)\n",
    "    if idx >= grid_height:\n",
    "        idx = grid_height - 1\n",
    "    if idx < 0:\n",
    "        idx = 0\n",
    "    grid[i, idx] = 1\n",
    "\n",
    "# Create x and y axes for the grid\n",
    "x = np.arange(0, grid_width)\n",
    "y = np.arange(-1,1, 0.1)\n",
    "\n",
    "# Plot the grid\n",
    "plt.figure(figsize=(10, 6))\n",
    "plt.imshow(grid.T, cmap='gray', aspect='auto', origin='lower', extent=[x[0], x[-1], y[0], y[-1]])\n",
    "plt.xlabel('Voltage samples')\n",
    "plt.ylabel('Voltage (mV)')\n",
    "\n",
    "# Draw the grid lines\n",
    "plt.grid(color='black', linestyle='-', linewidth=0.5)\n",
    "plt.xticks(np.arange(0, grid_width, step=1))\n",
    "plt.yticks(np.arange(-1, 1, step=0.1))\n",
    "\n",
    "# Show the plot\n",
    "plt.show()\n"
   ]
  }
 ],
 "metadata": {
  "kernelspec": {
   "display_name": "Python 3 (ipykernel)",
   "language": "python",
   "name": "python3"
  },
  "language_info": {
   "codemirror_mode": {
    "name": "ipython",
    "version": 3
   },
   "file_extension": ".py",
   "mimetype": "text/x-python",
   "name": "python",
   "nbconvert_exporter": "python",
   "pygments_lexer": "ipython3",
   "version": "3.9.13"
  }
 },
 "nbformat": 4,
 "nbformat_minor": 5
}
